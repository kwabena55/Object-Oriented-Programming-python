{
 "cells": [
  {
   "cell_type": "code",
   "execution_count": 1,
   "metadata": {},
   "outputs": [],
   "source": [
    "name=\"Joe\""
   ]
  },
  {
   "cell_type": "code",
   "execution_count": 14,
   "metadata": {},
   "outputs": [
    {
     "name": "stdout",
     "output_type": "stream",
     "text": [
      "3\n",
      "2\n",
      "Joe\n",
      "JOE\n",
      "joe\n",
      "False\n",
      "True\n",
      "1\n",
      "1\n",
      "Joe\n",
      "JoeJoeJoe\n"
     ]
    }
   ],
   "source": [
    "print(len(name))\n",
    "print(name.find(\"e\"))\n",
    "print(name.capitalize())\n",
    "print(name.upper())\n",
    "print(name.lower())\n",
    "print(name.isdigit())\n",
    "print(name.isalpha())\n",
    "print(name.count(\"J\"))\n",
    "print(name.count(\"J\"))\n",
    "print(name.replace(\"a\",\"o\"))\n",
    "print(name*3)"
   ]
  },
  {
   "cell_type": "code",
   "execution_count": null,
   "metadata": {},
   "outputs": [],
   "source": []
  }
 ],
 "metadata": {
  "kernelspec": {
   "display_name": "Python 3",
   "language": "python",
   "name": "python3"
  },
  "language_info": {
   "codemirror_mode": {
    "name": "ipython",
    "version": 3
   },
   "file_extension": ".py",
   "mimetype": "text/x-python",
   "name": "python",
   "nbconvert_exporter": "python",
   "pygments_lexer": "ipython3",
   "version": "3.12.2"
  },
  "orig_nbformat": 4
 },
 "nbformat": 4,
 "nbformat_minor": 2
}
