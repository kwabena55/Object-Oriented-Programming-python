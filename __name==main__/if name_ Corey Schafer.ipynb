{
 "cells": [
  {
   "cell_type": "markdown",
   "id": "65f5dee3",
   "metadata": {},
   "source": [
    "* When a python runs a file before it even runs a few code it \\\n",
    "sets a few special variables and name is one of those special variable\n",
    "* Main() represent the whole program you have"
   ]
  },
  {
   "cell_type": "code",
   "execution_count": 3,
   "id": "d201af51",
   "metadata": {},
   "outputs": [],
   "source": [
    "def main():\n",
    "    return \"come\"\n",
    "    pass\n",
    "if __name__==\"__main__\":\n",
    "    main()"
   ]
  },
  {
   "cell_type": "code",
   "execution_count": 4,
   "id": "97e3a23d",
   "metadata": {},
   "outputs": [
    {
     "data": {
      "text/plain": [
       "'come'"
      ]
     },
     "execution_count": 4,
     "metadata": {},
     "output_type": "execute_result"
    }
   ],
   "source": [
    "main()"
   ]
  },
  {
   "cell_type": "code",
   "execution_count": null,
   "id": "f6bdc321",
   "metadata": {},
   "outputs": [],
   "source": []
  }
 ],
 "metadata": {
  "kernelspec": {
   "display_name": "Python 3",
   "language": "python",
   "name": "python3"
  },
  "language_info": {
   "codemirror_mode": {
    "name": "ipython",
    "version": 3
   },
   "file_extension": ".py",
   "mimetype": "text/x-python",
   "name": "python",
   "nbconvert_exporter": "python",
   "pygments_lexer": "ipython3",
   "version": "3.8.5"
  }
 },
 "nbformat": 4,
 "nbformat_minor": 5
}
