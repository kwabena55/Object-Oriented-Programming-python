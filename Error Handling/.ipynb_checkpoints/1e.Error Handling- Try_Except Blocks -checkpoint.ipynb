{
 "cells": [
  {
   "cell_type": "markdown",
   "id": "a03e847e",
   "metadata": {},
   "source": [
    "# Syntax"
   ]
  },
  {
   "cell_type": "code",
   "execution_count": 2,
   "id": "4e78b786",
   "metadata": {},
   "outputs": [],
   "source": [
    "try:\n",
    "    pass\n",
    "except Exception:\n",
    "    pass\n",
    "# else:\n",
    "#     pass\n",
    "# finally:\n",
    "#     pass"
   ]
  },
  {
   "cell_type": "code",
   "execution_count": 6,
   "id": "de25b038",
   "metadata": {},
   "outputs": [
    {
     "name": "stdout",
     "output_type": "stream",
     "text": [
      "Check your print statement\n"
     ]
    }
   ],
   "source": [
    "try:\n",
    "    f=open(\"testfile.txt\")\n",
    "except Exception:\n",
    "          print(\"Check your print statement\")"
   ]
  },
  {
   "cell_type": "code",
   "execution_count": 9,
   "id": "a7c4155e",
   "metadata": {},
   "outputs": [
    {
     "name": "stdout",
     "output_type": "stream",
     "text": [
      "Sorry this file is not found\n"
     ]
    }
   ],
   "source": [
    "# Specify the error to enable python traceback\n",
    "try:\n",
    "    f=open(\"sol.txt\")\n",
    "    var=bad_var\n",
    "except FileNotFoundError:\n",
    "    print(\"Sorry this file is not found\")\n",
    "except Exception:\n",
    "    print(\"Something\")"
   ]
  },
  {
   "cell_type": "code",
   "execution_count": 10,
   "id": "17aa1d51",
   "metadata": {},
   "outputs": [
    {
     "name": "stdout",
     "output_type": "stream",
     "text": [
      "[Errno 2] No such file or directory: 'sol.txt'\n"
     ]
    }
   ],
   "source": [
    "# Specify the error to enable python traceback\n",
    "try:\n",
    "    f=open(\"sol.txt\")\n",
    "    var=bad_var\n",
    "except FileNotFoundError as e:\n",
    "    print(e)\n",
    "except Exception:\n",
    "    print(\"Something\")"
   ]
  },
  {
   "cell_type": "markdown",
   "id": "2c784de8",
   "metadata": {},
   "source": [
    "# Else"
   ]
  },
  {
   "cell_type": "code",
   "execution_count": 11,
   "id": "d3b8764c",
   "metadata": {},
   "outputs": [],
   "source": [
    "def name(p):\n",
    "    try:    #runs when we trying to \n",
    "        if p==\"come\":\n",
    "            print(\"I am comimg\")\n",
    "    except Exception as e:\n",
    "        print(e)\n",
    "    else:    # runs if we dont throw an exception\n",
    "        if p==\"go\":\n",
    "            print(\"go\")\n",
    "        \n",
    "            \n",
    "        \n",
    "        "
   ]
  },
  {
   "cell_type": "code",
   "execution_count": 17,
   "id": "28dd256c",
   "metadata": {},
   "outputs": [],
   "source": [
    "name(\"gogg\")"
   ]
  },
  {
   "cell_type": "markdown",
   "id": "c10fcfd2",
   "metadata": {},
   "source": [
    "# Finally\n",
    "* Runs no matter what happens. i.e whether we catch an exception or not\n",
    "* USeful when realising resources regsrdless of what happened in the try or except\n",
    "* Mostly used in databases if you want to close down the database"
   ]
  },
  {
   "cell_type": "code",
   "execution_count": 20,
   "id": "4c345c6d",
   "metadata": {},
   "outputs": [
    {
     "name": "stdout",
     "output_type": "stream",
     "text": [
      "Sorry this file is not found\n",
      "I am done\n",
      "executing finally\n"
     ]
    }
   ],
   "source": [
    "# Specify the error to enable python traceback\n",
    "try:\n",
    "    f=open(\"sol.txt\")\n",
    "    var=bad_var\n",
    "except FileNotFoundError:\n",
    "    print(\"Sorry this file is not found\")\n",
    "except Exception:\n",
    "    print(\"Something\")\n",
    "finally:\n",
    "    print(\"I am done\")\n",
    "    print(\"executing finally\")"
   ]
  },
  {
   "cell_type": "markdown",
   "id": "a893f8e6",
   "metadata": {},
   "source": [
    "# Raisng Exceptions on my own"
   ]
  },
  {
   "cell_type": "code",
   "execution_count": 22,
   "id": "3e658a96",
   "metadata": {},
   "outputs": [
    {
     "name": "stdout",
     "output_type": "stream",
     "text": [
      "[Errno 2] No such file or directory: 'sol.txt'\n"
     ]
    }
   ],
   "source": [
    "try:\n",
    "    f=open(\"sol.txt\")\n",
    "    if f.name==\"sol.txt\":\n",
    "        raise Exception\n",
    "except FileNotFoundError as e:\n",
    "    print(e)\n",
    "except Exception as e:\n",
    "    print(\"Error\")"
   ]
  },
  {
   "cell_type": "code",
   "execution_count": null,
   "id": "3aa76db4",
   "metadata": {},
   "outputs": [],
   "source": []
  }
 ],
 "metadata": {
  "kernelspec": {
   "display_name": "Python 3",
   "language": "python",
   "name": "python3"
  },
  "language_info": {
   "codemirror_mode": {
    "name": "ipython",
    "version": 3
   },
   "file_extension": ".py",
   "mimetype": "text/x-python",
   "name": "python",
   "nbconvert_exporter": "python",
   "pygments_lexer": "ipython3",
   "version": "3.8.5"
  }
 },
 "nbformat": 4,
 "nbformat_minor": 5
}
