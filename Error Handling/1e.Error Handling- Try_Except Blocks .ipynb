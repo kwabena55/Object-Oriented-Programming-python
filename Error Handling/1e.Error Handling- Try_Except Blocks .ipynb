{
 "cells": [
  {
   "cell_type": "markdown",
   "id": "c920a8aa",
   "metadata": {},
   "source": [
    "# Syntax"
   ]
  },
  {
   "cell_type": "code",
   "execution_count": 2,
   "id": "5a5e018c",
   "metadata": {},
   "outputs": [],
   "source": [
    "try:\n",
    "    pass\n",
    "except Exception:\n",
    "    pass\n",
    "# else:\n",
    "#     pass\n",
    "# finally:\n",
    "#     pass"
   ]
  },
  {
   "cell_type": "code",
   "execution_count": 6,
   "id": "e4829ee3",
   "metadata": {},
   "outputs": [
    {
     "name": "stdout",
     "output_type": "stream",
     "text": [
      "Check your print statement\n"
     ]
    }
   ],
   "source": [
    "try:\n",
    "    f=open(\"testfile.txt\")\n",
    "except Exception:\n",
    "          print(\"Check your print statement\")"
   ]
  },
  {
   "cell_type": "code",
   "execution_count": 9,
   "id": "bb87af50",
   "metadata": {},
   "outputs": [
    {
     "name": "stdout",
     "output_type": "stream",
     "text": [
      "Sorry this file is not found\n"
     ]
    }
   ],
   "source": [
    "# Specify the error to enable python traceback\n",
    "try:\n",
    "    f=open(\"sol.txt\")\n",
    "    var=bad_var\n",
    "except FileNotFoundError:\n",
    "    print(\"Sorry this file is not found\")\n",
    "except Exception:\n",
    "    print(\"Something\")"
   ]
  },
  {
   "cell_type": "code",
   "execution_count": 10,
   "id": "74b27e0d",
   "metadata": {},
   "outputs": [
    {
     "name": "stdout",
     "output_type": "stream",
     "text": [
      "[Errno 2] No such file or directory: 'sol.txt'\n"
     ]
    }
   ],
   "source": [
    "# Specify the error to enable python traceback\n",
    "try:\n",
    "    f=open(\"sol.txt\")\n",
    "    var=bad_var\n",
    "except FileNotFoundError as e:\n",
    "    print(e)\n",
    "except Exception:\n",
    "    print(\"Something\")"
   ]
  },
  {
   "cell_type": "markdown",
   "id": "018e0c90",
   "metadata": {},
   "source": [
    "# Else"
   ]
  },
  {
   "cell_type": "code",
   "execution_count": 11,
   "id": "5095621e",
   "metadata": {},
   "outputs": [],
   "source": [
    "def name(p):\n",
    "    try:    #runs when we trying to \n",
    "        if p==\"come\":\n",
    "            print(\"I am comimg\")\n",
    "    except Exception as e:\n",
    "        print(e)\n",
    "    else:    # runs if we dont throw an exception\n",
    "        if p==\"go\":\n",
    "            print(\"go\")\n",
    "        \n",
    "            \n",
    "        \n",
    "        "
   ]
  },
  {
   "cell_type": "code",
   "execution_count": 17,
   "id": "cc5f8665",
   "metadata": {},
   "outputs": [],
   "source": [
    "name(\"gogg\")"
   ]
  },
  {
   "cell_type": "markdown",
   "id": "45c9789a",
   "metadata": {},
   "source": [
    "# Finally\n",
    "* Runs no matter what happens. i.e whether we catch an exception or not\n",
    "* USeful when realising resources regsrdless of what happened in the try or except\n",
    "* Mostly used in databases if you want to close down the database"
   ]
  },
  {
   "cell_type": "code",
   "execution_count": 20,
   "id": "2cfde7dc",
   "metadata": {},
   "outputs": [
    {
     "name": "stdout",
     "output_type": "stream",
     "text": [
      "Sorry this file is not found\n",
      "I am done\n",
      "executing finally\n"
     ]
    }
   ],
   "source": [
    "# Specify the error to enable python traceback\n",
    "try:\n",
    "    f=open(\"sol.txt\")\n",
    "    var=bad_var\n",
    "except FileNotFoundError:\n",
    "    print(\"Sorry this file is not found\")\n",
    "except Exception:\n",
    "    print(\"Something\")\n",
    "finally:\n",
    "    print(\"I am done\")\n",
    "    print(\"executing finally\")"
   ]
  },
  {
   "cell_type": "markdown",
   "id": "b54e4ba8",
   "metadata": {},
   "source": [
    "# Raisng Exceptions on my own"
   ]
  },
  {
   "cell_type": "code",
   "execution_count": 22,
   "id": "11250469",
   "metadata": {},
   "outputs": [
    {
     "name": "stdout",
     "output_type": "stream",
     "text": [
      "[Errno 2] No such file or directory: 'sol.txt'\n"
     ]
    }
   ],
   "source": [
    "try:\n",
    "    f=open(\"sol.txt\")\n",
    "    if f.name==\"sol.txt\":\n",
    "        raise Exception\n",
    "except FileNotFoundError as e:\n",
    "    print(e)\n",
    "except Exception as e:\n",
    "    print(\"Error\")"
   ]
  },
  {
   "cell_type": "markdown",
   "id": "d9b29de8",
   "metadata": {},
   "source": [
    "\n",
    "\n",
    "# Error Handling  by Telusko Youtube( Python tutorials for begin0ers | Error handling)\n",
    "* you dont want your code to break even if you have an error"
   ]
  },
  {
   "cell_type": "code",
   "execution_count": 24,
   "id": "04621c9b",
   "metadata": {},
   "outputs": [
    {
     "name": "stdout",
     "output_type": "stream",
     "text": [
      "1.6666666666666667\n"
     ]
    }
   ],
   "source": [
    "a=5\n",
    "b=3\n",
    "print(a/b)"
   ]
  },
  {
   "cell_type": "code",
   "execution_count": 26,
   "id": "d161175a",
   "metadata": {},
   "outputs": [
    {
     "ename": "ZeroDivisionError",
     "evalue": "division by zero",
     "output_type": "error",
     "traceback": [
      "\u001b[1;31m---------------------------------------------------------------------------\u001b[0m",
      "\u001b[1;31mZeroDivisionError\u001b[0m                         Traceback (most recent call last)",
      "\u001b[1;32m<ipython-input-26-ab9042a38f6d>\u001b[0m in \u001b[0;36m<module>\u001b[1;34m\u001b[0m\n\u001b[1;32m----> 1\u001b[1;33m \u001b[0mprint\u001b[0m\u001b[1;33m(\u001b[0m\u001b[0ma\u001b[0m\u001b[1;33m/\u001b[0m\u001b[1;36m0\u001b[0m\u001b[1;33m)\u001b[0m  \u001b[1;31m# Handle error\u001b[0m\u001b[1;33m\u001b[0m\u001b[1;33m\u001b[0m\u001b[0m\n\u001b[0m",
      "\u001b[1;31mZeroDivisionError\u001b[0m: division by zero"
     ]
    }
   ],
   "source": [
    "print(a/0)  # Handle error"
   ]
  },
  {
   "cell_type": "code",
   "execution_count": 28,
   "id": "0aaece2c",
   "metadata": {},
   "outputs": [
    {
     "name": "stdout",
     "output_type": "stream",
     "text": [
      "division by zero\n"
     ]
    }
   ],
   "source": [
    "try: # Means you have a code and you want to try and run it \n",
    "    a=5\n",
    "    b=0\n",
    "    print(a/b)\n",
    "except ZeroDivisionError as e: # this line means you are ready to accept error and perform an action\n",
    "    print(e)"
   ]
  },
  {
   "cell_type": "code",
   "execution_count": 29,
   "id": "f52a007d",
   "metadata": {},
   "outputs": [
    {
     "name": "stdout",
     "output_type": "stream",
     "text": [
      "You cannot divide by Zero\n"
     ]
    }
   ],
   "source": [
    "try: # Means you have a code and you want to try and run it \n",
    "    a=5\n",
    "    b=0\n",
    "    print(a/b)\n",
    "except Exception: # this line means you are ready to accept error and perform an action\n",
    "    print(\"You cannot divide by Zero\")"
   ]
  },
  {
   "cell_type": "code",
   "execution_count": 30,
   "id": "d70ab159",
   "metadata": {},
   "outputs": [
    {
     "name": "stdout",
     "output_type": "stream",
     "text": [
      "2.5\n"
     ]
    }
   ],
   "source": [
    "try: # Means you have a code and you want to try and run it \n",
    "    a=5\n",
    "    b=2\n",
    "    print(a/b)\n",
    "except Exception: # this line means you are ready to accept error and perform an action\n",
    "    print(\"You cannot divide by Zero\")"
   ]
  },
  {
   "cell_type": "code",
   "execution_count": 35,
   "id": "6069932a",
   "metadata": {},
   "outputs": [
    {
     "name": "stdout",
     "output_type": "stream",
     "text": [
      "Check error     '''''   division by zero\n"
     ]
    }
   ],
   "source": [
    "try: # Means you have a code and you want to try and run it \n",
    "    a=5\n",
    "    b=0\n",
    "    print(a/b)\n",
    "except Exception as e: # this line means you are ready to accept error and perform an action\n",
    "    print(\"Check error     '''''  \",e)\n"
   ]
  },
  {
   "cell_type": "markdown",
   "id": "f949956c",
   "metadata": {},
   "source": [
    "Remember there are so many types of errors but Exception is a general name"
   ]
  },
  {
   "cell_type": "code",
   "execution_count": 38,
   "id": "d6a0ae45",
   "metadata": {},
   "outputs": [
    {
     "name": "stdout",
     "output_type": "stream",
     "text": [
      "Check name\n"
     ]
    }
   ],
   "source": [
    "try: # Means you have a code and you want to try and run it \n",
    "    a=5\n",
    "    b=f\n",
    "    print(a/b)\n",
    "except ZeroDivisionError as e: # this line means you are ready to accept error and perform an action\n",
    "    print(e)\n",
    "except ValueError as e:\n",
    "    print( \"Check Value\")\n",
    "except NameError as e:\n",
    "    print(\"Check name\")"
   ]
  },
  {
   "cell_type": "code",
   "execution_count": null,
   "id": "f0a82d8c",
   "metadata": {},
   "outputs": [],
   "source": []
  }
 ],
 "metadata": {
  "kernelspec": {
   "display_name": "Python 3",
   "language": "python",
   "name": "python3"
  },
  "language_info": {
   "codemirror_mode": {
    "name": "ipython",
    "version": 3
   },
   "file_extension": ".py",
   "mimetype": "text/x-python",
   "name": "python",
   "nbconvert_exporter": "python",
   "pygments_lexer": "ipython3",
   "version": "3.8.5"
  }
 },
 "nbformat": 4,
 "nbformat_minor": 5
}
