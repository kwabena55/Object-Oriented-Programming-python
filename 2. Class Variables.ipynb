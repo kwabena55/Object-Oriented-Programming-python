{
 "cells": [
  {
   "cell_type": "code",
   "execution_count": 4,
   "id": "bcf63153",
   "metadata": {},
   "outputs": [],
   "source": [
    "class Employee:\n",
    "    def __init__(self, first,last,pay):\n",
    "        self.first=first\n",
    "        self.last=last\n",
    "        self.pay=pay\n",
    "        self.email=first+last+\"@gmail.com\"\n",
    "        \n",
    "    def fullname(self):\n",
    "        return \"{} {}\".format(self.first, self.last)\n",
    "    \n",
    "    \n",
    "    def pay_raise(self):\n",
    "        return int(self.pay * 1.04)  # this is hardcoded, thats why we need a class variable\n",
    "        "
   ]
  },
  {
   "cell_type": "code",
   "execution_count": 5,
   "id": "52478667",
   "metadata": {},
   "outputs": [],
   "source": [
    "emp1=Employee(\"ansah\",\"solomon\",2000)"
   ]
  },
  {
   "cell_type": "code",
   "execution_count": 6,
   "id": "b777eec8",
   "metadata": {},
   "outputs": [
    {
     "name": "stdout",
     "output_type": "stream",
     "text": [
      "2000\n"
     ]
    }
   ],
   "source": [
    "print(emp1.pay)"
   ]
  },
  {
   "cell_type": "code",
   "execution_count": 7,
   "id": "ff5152cc",
   "metadata": {},
   "outputs": [
    {
     "name": "stdout",
     "output_type": "stream",
     "text": [
      "ansah solomon\n"
     ]
    }
   ],
   "source": [
    "print(emp1.fullname())"
   ]
  },
  {
   "cell_type": "code",
   "execution_count": 8,
   "id": "c2e7017a",
   "metadata": {},
   "outputs": [
    {
     "name": "stdout",
     "output_type": "stream",
     "text": [
      "2080\n"
     ]
    }
   ],
   "source": [
    "print(emp1.pay_raise())"
   ]
  },
  {
   "cell_type": "code",
   "execution_count": 12,
   "id": "7a353f28",
   "metadata": {},
   "outputs": [],
   "source": [
    "class Employee:\n",
    "    raisepercent=1.04\n",
    "    def __init__(self, first,last,pay):\n",
    "        self.first=first\n",
    "        self.last=last\n",
    "        self.pay=pay\n",
    "        self.email=first+last+\"@gmail.com\"\n",
    "        \n",
    "    def fullname(self):\n",
    "        return \"{} {}\".format(self.first, self.last)\n",
    "    \n",
    "    \n",
    "    def pay_raisee(self):\n",
    "        return int(self.pay * self.raisepercent)  # this is hardcoded, thats why we need a class variable\n",
    "        "
   ]
  },
  {
   "cell_type": "code",
   "execution_count": 14,
   "id": "5605e6a6",
   "metadata": {},
   "outputs": [
    {
     "name": "stdout",
     "output_type": "stream",
     "text": [
      "2600\n"
     ]
    }
   ],
   "source": [
    "emp1=Employee(\"ansah\",\"solomon\",2500)\n",
    "print(emp1.pay_raisee())"
   ]
  },
  {
   "cell_type": "code",
   "execution_count": 39,
   "id": "8d8ae60c",
   "metadata": {},
   "outputs": [
    {
     "data": {
      "text/plain": [
       "1.04"
      ]
     },
     "execution_count": 39,
     "metadata": {},
     "output_type": "execute_result"
    }
   ],
   "source": [
    "emp1.raisepercent"
   ]
  },
  {
   "cell_type": "code",
   "execution_count": 41,
   "id": "a4144937",
   "metadata": {},
   "outputs": [
    {
     "data": {
      "text/plain": [
       "'solomon'"
      ]
     },
     "execution_count": 41,
     "metadata": {},
     "output_type": "execute_result"
    }
   ],
   "source": [
    "emp1.last"
   ]
  },
  {
   "cell_type": "markdown",
   "id": "ef71b753",
   "metadata": {},
   "source": [
    "## Reassignemnt of Var\n",
    "* Use self for varying variable assignemnt"
   ]
  },
  {
   "cell_type": "code",
   "execution_count": 43,
   "id": "0f46ff51",
   "metadata": {},
   "outputs": [],
   "source": [
    "\n",
    "emp1.raisepercent=1.05"
   ]
  },
  {
   "cell_type": "code",
   "execution_count": 44,
   "id": "7f9bd028",
   "metadata": {},
   "outputs": [
    {
     "name": "stdout",
     "output_type": "stream",
     "text": [
      "{'first': 'ansah', 'last': 'solomon', 'pay': 2000, 'email': 'ansahsolomon@gmail.com', 'raisepercent': 1.05}\n"
     ]
    }
   ],
   "source": [
    "print(emp1.__dict__)"
   ]
  },
  {
   "cell_type": "code",
   "execution_count": 45,
   "id": "53cbbeaf",
   "metadata": {},
   "outputs": [],
   "source": [
    "emp2=Employee(\"ansah\",\"solomon\",3000)"
   ]
  },
  {
   "cell_type": "code",
   "execution_count": 46,
   "id": "b03a86a7",
   "metadata": {},
   "outputs": [
    {
     "name": "stdout",
     "output_type": "stream",
     "text": [
      "{'first': 'ansah', 'last': 'solomon', 'pay': 3000, 'email': 'ansahsolomon@gmail.com'}\n"
     ]
    }
   ],
   "source": [
    "print(emp2.__dict__)"
   ]
  },
  {
   "cell_type": "code",
   "execution_count": 47,
   "id": "e7b21543",
   "metadata": {},
   "outputs": [
    {
     "data": {
      "text/plain": [
       "1.04"
      ]
     },
     "execution_count": 47,
     "metadata": {},
     "output_type": "execute_result"
    }
   ],
   "source": [
    "emp2.raisepercent  # So you see emp2 has 1.o4 and emp1 class has 1.05"
   ]
  },
  {
   "cell_type": "code",
   "execution_count": 48,
   "id": "00cda8ff",
   "metadata": {},
   "outputs": [],
   "source": [
    "emp2.raisepercent=1.06"
   ]
  },
  {
   "cell_type": "code",
   "execution_count": 49,
   "id": "b7aa87a0",
   "metadata": {},
   "outputs": [
    {
     "data": {
      "text/plain": [
       "{'first': 'ansah',\n",
       " 'last': 'solomon',\n",
       " 'pay': 3000,\n",
       " 'email': 'ansahsolomon@gmail.com',\n",
       " 'raisepercent': 1.06}"
      ]
     },
     "execution_count": 49,
     "metadata": {},
     "output_type": "execute_result"
    }
   ],
   "source": [
    "emp2.__dict__"
   ]
  },
  {
   "cell_type": "markdown",
   "id": "c2d935ed",
   "metadata": {},
   "source": [
    "# To keep Variables Fixed Across Instances\n",
    "* Use Classname"
   ]
  },
  {
   "cell_type": "code",
   "execution_count": 57,
   "id": "70745603",
   "metadata": {},
   "outputs": [],
   "source": [
    "class Employee:\n",
    "    raisepercent=1.04\n",
    "    def __init__(self, first,last,pay):\n",
    "        self.first=first\n",
    "        self.last=last\n",
    "        self.pay=pay\n",
    "        self.email=first+last+\"@gmail.com\"\n",
    "        \n",
    "    def fullname(self):\n",
    "        return \"{} {}\".format(self.first, self.last)\n",
    "    \n",
    "    \n",
    "    def pay_raisee(self):\n",
    "        return int(self.pay * Employee.raisepercent)  # Use classname to keep variable fixed always\n",
    "        "
   ]
  },
  {
   "cell_type": "code",
   "execution_count": 58,
   "id": "7a115458",
   "metadata": {},
   "outputs": [
    {
     "data": {
      "text/plain": [
       "3180"
      ]
     },
     "execution_count": 58,
     "metadata": {},
     "output_type": "execute_result"
    }
   ],
   "source": [
    "emp2.pay_raisee()"
   ]
  },
  {
   "cell_type": "code",
   "execution_count": 59,
   "id": "0ee7c87f",
   "metadata": {},
   "outputs": [
    {
     "data": {
      "text/plain": [
       "2100"
      ]
     },
     "execution_count": 59,
     "metadata": {},
     "output_type": "execute_result"
    }
   ],
   "source": [
    "emp1.pay_raisee()  "
   ]
  },
  {
   "cell_type": "code",
   "execution_count": 72,
   "id": "63345189",
   "metadata": {},
   "outputs": [],
   "source": [
    "class Employee:\n",
    "    raisepercent=1.04\n",
    "    num_employees=0\n",
    "    def __init__(self, first,last,pay):\n",
    "        self.first=first\n",
    "        self.last=last\n",
    "        self.pay=pay\n",
    "        self.email=first+last+\"@gmail.com\"\n",
    "        Employee.num_employees+=1\n",
    "        \n",
    "    def fullname(self):\n",
    "        return \"{} {}\".format(self.first, self.last)\n",
    "    \n",
    "    \n",
    "    def pay_raisee(self):\n",
    "        return int(self.pay * Employee.raisepercent)"
   ]
  },
  {
   "cell_type": "code",
   "execution_count": 3,
   "id": "6aed4b45",
   "metadata": {},
   "outputs": [
    {
     "ename": "AttributeError",
     "evalue": "type object 'Employee' has no attribute 'num_employees'",
     "output_type": "error",
     "traceback": [
      "\u001b[0;31m---------------------------------------------------------------------------\u001b[0m",
      "\u001b[0;31mAttributeError\u001b[0m                            Traceback (most recent call last)",
      "\u001b[1;32m/Users/solansah/Desktop/LocalGit/Python/2. Class Variables.ipynb Cell 23\u001b[0m line \u001b[0;36m2\n\u001b[1;32m      <a href='vscode-notebook-cell:/Users/solansah/Desktop/LocalGit/Python/2.%20Class%20Variables.ipynb#X31sZmlsZQ%3D%3D?line=0'>1</a>\u001b[0m emp2\u001b[39m=\u001b[39mEmployee(\u001b[39m\"\u001b[39m\u001b[39mansah\u001b[39m\u001b[39m\"\u001b[39m,\u001b[39m\"\u001b[39m\u001b[39msolomon\u001b[39m\u001b[39m\"\u001b[39m,\u001b[39m3000\u001b[39m)\n\u001b[0;32m----> <a href='vscode-notebook-cell:/Users/solansah/Desktop/LocalGit/Python/2.%20Class%20Variables.ipynb#X31sZmlsZQ%3D%3D?line=1'>2</a>\u001b[0m \u001b[39mprint\u001b[39m(Employee\u001b[39m.\u001b[39;49mnum_employees)\n",
      "\u001b[0;31mAttributeError\u001b[0m: type object 'Employee' has no attribute 'num_employees'"
     ]
    }
   ],
   "source": [
    "emp2=Employee(\"ansah\",\"solomon\",3000)\n",
    "print(Employee.num_employees)"
   ]
  },
  {
   "cell_type": "code",
   "execution_count": 77,
   "id": "953d2c27",
   "metadata": {},
   "outputs": [
    {
     "name": "stdout",
     "output_type": "stream",
     "text": [
      "2\n"
     ]
    }
   ],
   "source": [
    "print(Employee.num_employees)"
   ]
  },
  {
   "cell_type": "code",
   "execution_count": null,
   "id": "a66aea5a",
   "metadata": {},
   "outputs": [],
   "source": [
    "this is edem files"
   ]
  }
 ],
 "metadata": {
  "kernelspec": {
   "display_name": "Python 3",
   "language": "python",
   "name": "python3"
  },
  "language_info": {
   "codemirror_mode": {
    "name": "ipython",
    "version": 3
   },
   "file_extension": ".py",
   "mimetype": "text/x-python",
   "name": "python",
   "nbconvert_exporter": "python",
   "pygments_lexer": "ipython3",
   "version": "3.12.2"
  }
 },
 "nbformat": 4,
 "nbformat_minor": 5
}
