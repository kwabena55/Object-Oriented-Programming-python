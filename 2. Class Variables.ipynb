{
 "cells": [
  {
   "cell_type": "code",
   "execution_count": 28,
   "id": "76dcd3f2",
   "metadata": {},
   "outputs": [],
   "source": [
    "class Employee:\n",
    "    def __init__(self, first,last,pay):\n",
    "        self.first=first\n",
    "        self.last=last\n",
    "        self.pay=pay\n",
    "        self.email=first+last+\"@gmail.com\"\n",
    "        \n",
    "    def fullname(self):\n",
    "        return \"{} {}\".format(self.first, self.last)\n",
    "    \n",
    "    \n",
    "    def pay_raise(self):\n",
    "        return int(self.pay * 1.04)  # this is hardcoded, thats why we need a class variable\n",
    "        "
   ]
  },
  {
   "cell_type": "code",
   "execution_count": 29,
   "id": "34020b3b",
   "metadata": {},
   "outputs": [],
   "source": [
    "emp1=Employee(\"ansah\",\"solomon\",2000)"
   ]
  },
  {
   "cell_type": "code",
   "execution_count": 30,
   "id": "a455bf3f",
   "metadata": {},
   "outputs": [
    {
     "name": "stdout",
     "output_type": "stream",
     "text": [
      "2000\n"
     ]
    }
   ],
   "source": [
    "print(emp1.pay)"
   ]
  },
  {
   "cell_type": "code",
   "execution_count": 31,
   "id": "f4a90671",
   "metadata": {},
   "outputs": [
    {
     "name": "stdout",
     "output_type": "stream",
     "text": [
      "ansah solomon\n"
     ]
    }
   ],
   "source": [
    "print(emp1.fullname())"
   ]
  },
  {
   "cell_type": "code",
   "execution_count": 32,
   "id": "29713243",
   "metadata": {},
   "outputs": [
    {
     "name": "stdout",
     "output_type": "stream",
     "text": [
      "2080\n"
     ]
    }
   ],
   "source": [
    "print(emp1.pay_raise())"
   ]
  },
  {
   "cell_type": "code",
   "execution_count": 37,
   "id": "e5d24b77",
   "metadata": {},
   "outputs": [],
   "source": [
    "class Employee:\n",
    "    raisepercent=1.04\n",
    "    def __init__(self, first,last,pay):\n",
    "        self.first=first\n",
    "        self.last=last\n",
    "        self.pay=pay\n",
    "        self.email=first+last+\"@gmail.com\"\n",
    "        \n",
    "    def fullname(self):\n",
    "        return \"{} {}\".format(self.first, self.last)\n",
    "    \n",
    "    \n",
    "    def pay_raisee(self):\n",
    "        return int(self.pay * self.raisepercent)  # this is hardcoded, thats why we need a class variable\n",
    "        "
   ]
  },
  {
   "cell_type": "code",
   "execution_count": 38,
   "id": "c079ffad",
   "metadata": {},
   "outputs": [
    {
     "name": "stdout",
     "output_type": "stream",
     "text": [
      "2080\n"
     ]
    }
   ],
   "source": [
    "emp1=Employee(\"ansah\",\"solomon\",2000)\n",
    "print(emp1.pay_raisee())"
   ]
  },
  {
   "cell_type": "code",
   "execution_count": 39,
   "id": "e28bc1e3",
   "metadata": {},
   "outputs": [
    {
     "data": {
      "text/plain": [
       "1.04"
      ]
     },
     "execution_count": 39,
     "metadata": {},
     "output_type": "execute_result"
    }
   ],
   "source": [
    "emp1.raisepercent"
   ]
  },
  {
   "cell_type": "code",
   "execution_count": 41,
   "id": "ef0165c8",
   "metadata": {},
   "outputs": [
    {
     "data": {
      "text/plain": [
       "'solomon'"
      ]
     },
     "execution_count": 41,
     "metadata": {},
     "output_type": "execute_result"
    }
   ],
   "source": [
    "emp1.last"
   ]
  },
  {
   "cell_type": "markdown",
   "id": "69bda26d",
   "metadata": {},
   "source": [
    "## Reassignemnt of Var\n",
    "* Use self for varying variable assignemnt"
   ]
  },
  {
   "cell_type": "code",
   "execution_count": 43,
   "id": "73d89121",
   "metadata": {},
   "outputs": [],
   "source": [
    "\n",
    "emp1.raisepercent=1.05"
   ]
  },
  {
   "cell_type": "code",
   "execution_count": 44,
   "id": "70948895",
   "metadata": {},
   "outputs": [
    {
     "name": "stdout",
     "output_type": "stream",
     "text": [
      "{'first': 'ansah', 'last': 'solomon', 'pay': 2000, 'email': 'ansahsolomon@gmail.com', 'raisepercent': 1.05}\n"
     ]
    }
   ],
   "source": [
    "print(emp1.__dict__)"
   ]
  },
  {
   "cell_type": "code",
   "execution_count": 45,
   "id": "1c2d0256",
   "metadata": {},
   "outputs": [],
   "source": [
    "emp2=Employee(\"ansah\",\"solomon\",3000)"
   ]
  },
  {
   "cell_type": "code",
   "execution_count": 46,
   "id": "56fd5927",
   "metadata": {},
   "outputs": [
    {
     "name": "stdout",
     "output_type": "stream",
     "text": [
      "{'first': 'ansah', 'last': 'solomon', 'pay': 3000, 'email': 'ansahsolomon@gmail.com'}\n"
     ]
    }
   ],
   "source": [
    "print(emp2.__dict__)"
   ]
  },
  {
   "cell_type": "code",
   "execution_count": 47,
   "id": "99f623b0",
   "metadata": {},
   "outputs": [
    {
     "data": {
      "text/plain": [
       "1.04"
      ]
     },
     "execution_count": 47,
     "metadata": {},
     "output_type": "execute_result"
    }
   ],
   "source": [
    "emp2.raisepercent  # So you see emp2 has 1.o4 and emp1 class has 1.05"
   ]
  },
  {
   "cell_type": "code",
   "execution_count": 48,
   "id": "8f2f54ef",
   "metadata": {},
   "outputs": [],
   "source": [
    "emp2.raisepercent=1.06"
   ]
  },
  {
   "cell_type": "code",
   "execution_count": 49,
   "id": "1d3aa7e7",
   "metadata": {},
   "outputs": [
    {
     "data": {
      "text/plain": [
       "{'first': 'ansah',\n",
       " 'last': 'solomon',\n",
       " 'pay': 3000,\n",
       " 'email': 'ansahsolomon@gmail.com',\n",
       " 'raisepercent': 1.06}"
      ]
     },
     "execution_count": 49,
     "metadata": {},
     "output_type": "execute_result"
    }
   ],
   "source": [
    "emp2.__dict__"
   ]
  },
  {
   "cell_type": "markdown",
   "id": "418fbaae",
   "metadata": {},
   "source": [
    "# To keep Variables Fixed Across Instances\n",
    "* Use Classname"
   ]
  },
  {
   "cell_type": "code",
   "execution_count": null,
   "id": "12ef81d8",
   "metadata": {},
   "outputs": [],
   "source": []
  }
 ],
 "metadata": {
  "kernelspec": {
   "display_name": "Python 3",
   "language": "python",
   "name": "python3"
  },
  "language_info": {
   "codemirror_mode": {
    "name": "ipython",
    "version": 3
   },
   "file_extension": ".py",
   "mimetype": "text/x-python",
   "name": "python",
   "nbconvert_exporter": "python",
   "pygments_lexer": "ipython3",
   "version": "3.8.5"
  }
 },
 "nbformat": 4,
 "nbformat_minor": 5
}
