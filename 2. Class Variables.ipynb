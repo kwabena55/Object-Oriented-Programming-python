{
 "cells": [
  {
   "cell_type": "code",
   "execution_count": 28,
   "id": "d4265147",
   "metadata": {},
   "outputs": [],
   "source": [
    "class Employee:\n",
    "    def __init__(self, first,last,pay):\n",
    "        self.first=first\n",
    "        self.last=last\n",
    "        self.pay=pay\n",
    "        self.email=first+last+\"@gmail.com\"\n",
    "        \n",
    "    def fullname(self):\n",
    "        return \"{} {}\".format(self.first, self.last)\n",
    "    \n",
    "    \n",
    "    def pay_raise(self):\n",
    "        return int(self.pay * 1.04)  # this is hardcoded, thats why we need a class variable\n",
    "        "
   ]
  },
  {
   "cell_type": "code",
   "execution_count": 29,
   "id": "6fd91565",
   "metadata": {},
   "outputs": [],
   "source": [
    "emp1=Employee(\"ansah\",\"solomon\",2000)"
   ]
  },
  {
   "cell_type": "code",
   "execution_count": 30,
   "id": "756b41f1",
   "metadata": {},
   "outputs": [
    {
     "name": "stdout",
     "output_type": "stream",
     "text": [
      "2000\n"
     ]
    }
   ],
   "source": [
    "print(emp1.pay)"
   ]
  },
  {
   "cell_type": "code",
   "execution_count": 31,
   "id": "677aeea8",
   "metadata": {},
   "outputs": [
    {
     "name": "stdout",
     "output_type": "stream",
     "text": [
      "ansah solomon\n"
     ]
    }
   ],
   "source": [
    "print(emp1.fullname())"
   ]
  },
  {
   "cell_type": "code",
   "execution_count": 32,
   "id": "41ce3ca1",
   "metadata": {},
   "outputs": [
    {
     "name": "stdout",
     "output_type": "stream",
     "text": [
      "2080\n"
     ]
    }
   ],
   "source": [
    "print(emp1.pay_raise())"
   ]
  },
  {
   "cell_type": "code",
   "execution_count": 37,
   "id": "883b63c5",
   "metadata": {},
   "outputs": [],
   "source": [
    "class Employee:\n",
    "    raisepercent=1.04\n",
    "    def __init__(self, first,last,pay):\n",
    "        self.first=first\n",
    "        self.last=last\n",
    "        self.pay=pay\n",
    "        self.email=first+last+\"@gmail.com\"\n",
    "        \n",
    "    def fullname(self):\n",
    "        return \"{} {}\".format(self.first, self.last)\n",
    "    \n",
    "    \n",
    "    def pay_raisee(self):\n",
    "        return int(self.pay * self.raisepercent)  # this is hardcoded, thats why we need a class variable\n",
    "        "
   ]
  },
  {
   "cell_type": "code",
   "execution_count": 38,
   "id": "762f2490",
   "metadata": {},
   "outputs": [
    {
     "name": "stdout",
     "output_type": "stream",
     "text": [
      "2080\n"
     ]
    }
   ],
   "source": [
    "emp1=Employee(\"ansah\",\"solomon\",2000)\n",
    "print(emp1.pay_raisee())"
   ]
  },
  {
   "cell_type": "code",
   "execution_count": 39,
   "id": "c3434fa3",
   "metadata": {},
   "outputs": [
    {
     "data": {
      "text/plain": [
       "1.04"
      ]
     },
     "execution_count": 39,
     "metadata": {},
     "output_type": "execute_result"
    }
   ],
   "source": [
    "emp1.raisepercent"
   ]
  },
  {
   "cell_type": "code",
   "execution_count": 41,
   "id": "2fd5f0f3",
   "metadata": {},
   "outputs": [
    {
     "data": {
      "text/plain": [
       "'solomon'"
      ]
     },
     "execution_count": 41,
     "metadata": {},
     "output_type": "execute_result"
    }
   ],
   "source": [
    "emp1.last"
   ]
  },
  {
   "cell_type": "code",
   "execution_count": 43,
   "id": "968615b7",
   "metadata": {},
   "outputs": [],
   "source": [
    "## Reassignemnt of Var\n",
    "emp1.raisepercent=1.05"
   ]
  },
  {
   "cell_type": "code",
   "execution_count": 44,
   "id": "1637e1db",
   "metadata": {},
   "outputs": [
    {
     "name": "stdout",
     "output_type": "stream",
     "text": [
      "{'first': 'ansah', 'last': 'solomon', 'pay': 2000, 'email': 'ansahsolomon@gmail.com', 'raisepercent': 1.05}\n"
     ]
    }
   ],
   "source": [
    "print(emp1.__dict__)"
   ]
  },
  {
   "cell_type": "code",
   "execution_count": 45,
   "id": "96e57144",
   "metadata": {},
   "outputs": [],
   "source": [
    "emp2=Employee(\"ansah\",\"solomon\",3000)"
   ]
  },
  {
   "cell_type": "code",
   "execution_count": 46,
   "id": "f4edd267",
   "metadata": {},
   "outputs": [
    {
     "name": "stdout",
     "output_type": "stream",
     "text": [
      "{'first': 'ansah', 'last': 'solomon', 'pay': 3000, 'email': 'ansahsolomon@gmail.com'}\n"
     ]
    }
   ],
   "source": [
    "print(emp2.__dict__)"
   ]
  },
  {
   "cell_type": "code",
   "execution_count": 47,
   "id": "130e7f72",
   "metadata": {},
   "outputs": [
    {
     "data": {
      "text/plain": [
       "1.04"
      ]
     },
     "execution_count": 47,
     "metadata": {},
     "output_type": "execute_result"
    }
   ],
   "source": [
    "emp2.raisepercent  # So you see emp2 has 1.o4 and emp1 class has 1.05"
   ]
  },
  {
   "cell_type": "code",
   "execution_count": 48,
   "id": "a8105937",
   "metadata": {},
   "outputs": [],
   "source": [
    "emp2.raisepercent=1.06"
   ]
  },
  {
   "cell_type": "code",
   "execution_count": 49,
   "id": "e0353a84",
   "metadata": {},
   "outputs": [
    {
     "data": {
      "text/plain": [
       "{'first': 'ansah',\n",
       " 'last': 'solomon',\n",
       " 'pay': 3000,\n",
       " 'email': 'ansahsolomon@gmail.com',\n",
       " 'raisepercent': 1.06}"
      ]
     },
     "execution_count": 49,
     "metadata": {},
     "output_type": "execute_result"
    }
   ],
   "source": [
    "emp2.__dict__"
   ]
  },
  {
   "cell_type": "code",
   "execution_count": null,
   "id": "a0dd3424",
   "metadata": {},
   "outputs": [],
   "source": []
  }
 ],
 "metadata": {
  "kernelspec": {
   "display_name": "Python 3",
   "language": "python",
   "name": "python3"
  },
  "language_info": {
   "codemirror_mode": {
    "name": "ipython",
    "version": 3
   },
   "file_extension": ".py",
   "mimetype": "text/x-python",
   "name": "python",
   "nbconvert_exporter": "python",
   "pygments_lexer": "ipython3",
   "version": "3.8.5"
  }
 },
 "nbformat": 4,
 "nbformat_minor": 5
}
