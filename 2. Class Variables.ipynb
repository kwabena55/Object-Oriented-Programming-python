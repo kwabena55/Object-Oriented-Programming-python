{
 "cells": [
  {
   "cell_type": "code",
   "execution_count": 28,
   "id": "e710857a",
   "metadata": {},
   "outputs": [],
   "source": [
    "class Employee:\n",
    "    def __init__(self, first,last,pay):\n",
    "        self.first=first\n",
    "        self.last=last\n",
    "        self.pay=pay\n",
    "        self.email=first+last+\"@gmail.com\"\n",
    "        \n",
    "    def fullname(self):\n",
    "        return \"{} {}\".format(self.first, self.last)\n",
    "    \n",
    "    \n",
    "    def pay_raise(self):\n",
    "        return int(self.pay * 1.04)  # this is hardcoded, thats why we need a class variable\n",
    "        "
   ]
  },
  {
   "cell_type": "code",
   "execution_count": 29,
   "id": "977c3fe1",
   "metadata": {},
   "outputs": [],
   "source": [
    "emp1=Employee(\"ansah\",\"solomon\",2000)"
   ]
  },
  {
   "cell_type": "code",
   "execution_count": 30,
   "id": "0c933019",
   "metadata": {},
   "outputs": [
    {
     "name": "stdout",
     "output_type": "stream",
     "text": [
      "2000\n"
     ]
    }
   ],
   "source": [
    "print(emp1.pay)"
   ]
  },
  {
   "cell_type": "code",
   "execution_count": 31,
   "id": "5d5c2b37",
   "metadata": {},
   "outputs": [
    {
     "name": "stdout",
     "output_type": "stream",
     "text": [
      "ansah solomon\n"
     ]
    }
   ],
   "source": [
    "print(emp1.fullname())"
   ]
  },
  {
   "cell_type": "code",
   "execution_count": 32,
   "id": "37d2047a",
   "metadata": {},
   "outputs": [
    {
     "name": "stdout",
     "output_type": "stream",
     "text": [
      "2080\n"
     ]
    }
   ],
   "source": [
    "print(emp1.pay_raise())"
   ]
  },
  {
   "cell_type": "code",
   "execution_count": 33,
   "id": "780920b5",
   "metadata": {},
   "outputs": [],
   "source": [
    "class Employee:\n",
    "    raisepercent=1.04\n",
    "    def __init__(self, first,last,pay):\n",
    "        self.first=first\n",
    "        self.last=last\n",
    "        self.pay=pay\n",
    "        self.email=first+last+\"@gmail.com\"\n",
    "        \n",
    "    def fullname(self):\n",
    "        return \"{} {}\".format(self.first, self.last)\n",
    "    \n",
    "    \n",
    "    def pay_raise(self):\n",
    "        return int(self.pay * self.raisepercent)  # this is hardcoded, thats why we need a class variable\n",
    "        "
   ]
  },
  {
   "cell_type": "code",
   "execution_count": 34,
   "id": "f5fe749a",
   "metadata": {},
   "outputs": [
    {
     "name": "stdout",
     "output_type": "stream",
     "text": [
      "2080\n"
     ]
    }
   ],
   "source": [
    "print(emp1.pay_raise())"
   ]
  },
  {
   "cell_type": "code",
   "execution_count": null,
   "id": "ee675966",
   "metadata": {},
   "outputs": [],
   "source": []
  }
 ],
 "metadata": {
  "kernelspec": {
   "display_name": "Python 3",
   "language": "python",
   "name": "python3"
  },
  "language_info": {
   "codemirror_mode": {
    "name": "ipython",
    "version": 3
   },
   "file_extension": ".py",
   "mimetype": "text/x-python",
   "name": "python",
   "nbconvert_exporter": "python",
   "pygments_lexer": "ipython3",
   "version": "3.8.5"
  }
 },
 "nbformat": 4,
 "nbformat_minor": 5
}
