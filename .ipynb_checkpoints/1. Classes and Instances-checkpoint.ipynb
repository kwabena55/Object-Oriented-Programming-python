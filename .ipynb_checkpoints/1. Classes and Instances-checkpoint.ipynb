{
 "cells": [
  {
   "cell_type": "code",
   "execution_count": 1,
   "id": "eb06d2a8",
   "metadata": {},
   "outputs": [],
   "source": [
    "class Employee:\n",
    "    pass"
   ]
  },
  {
   "cell_type": "code",
   "execution_count": 2,
   "id": "f795cd20",
   "metadata": {},
   "outputs": [],
   "source": [
    "#Instance of a Class . A class is a blueprint for a creating a function\n",
    "emp1=Employee()  # We are instantiating an object out of the class\n",
    "emp2=Employee()"
   ]
  },
  {
   "cell_type": "code",
   "execution_count": 4,
   "id": "551fe5f3",
   "metadata": {},
   "outputs": [
    {
     "name": "stdout",
     "output_type": "stream",
     "text": [
      "<__main__.Employee object at 0x00000241FC3C4280>\n",
      "<__main__.Employee object at 0x00000241FC3C43D0>\n"
     ]
    }
   ],
   "source": [
    "print(emp1)\n",
    "print(emp2)"
   ]
  },
  {
   "cell_type": "code",
   "execution_count": 5,
   "id": "06571a0c",
   "metadata": {},
   "outputs": [],
   "source": [
    "emp1.email=\"solansah@ xxx.com\"\n",
    "emp1.age=20\n",
    "emp1.firstname=\"ans\"\n",
    "\n",
    "emp2.email=\"solansah2@ xxx.com\"\n",
    "emp2.age=30\n",
    "emp2.firstname=\"ans2\"\n"
   ]
  },
  {
   "cell_type": "code",
   "execution_count": 7,
   "id": "9fdfe00b",
   "metadata": {},
   "outputs": [
    {
     "name": "stdout",
     "output_type": "stream",
     "text": [
      "solansah@ xxx.com\n",
      "solansah2@ xxx.com\n"
     ]
    }
   ],
   "source": [
    "print(emp1.email)\n",
    "print(emp2.email)"
   ]
  },
  {
   "cell_type": "markdown",
   "id": "0c25806a",
   "metadata": {},
   "source": [
    "The above method is so manual and prone to mistakes. For Classes this wouldnt be a right way so we will make a bit more dynamic"
   ]
  },
  {
   "cell_type": "markdown",
   "id": "d50eb2c9",
   "metadata": {},
   "source": [
    "# Create a Method Out of a Class"
   ]
  },
  {
   "cell_type": "code",
   "execution_count": 15,
   "id": "8baaa4e6",
   "metadata": {},
   "outputs": [],
   "source": [
    "# Think of this as Initialize but when you coming from another language just see it as constructor        \n",
    "class Employee:\n",
    "    def __init__(self, first, last, pay):\n",
    "        self.first=first\n",
    "        self.last=last\n",
    "        self.pay=pay\n",
    "        self.email=first+last+\"@gmail.com\"\n",
    "        \n",
    "      "
   ]
  },
  {
   "cell_type": "code",
   "execution_count": 16,
   "id": "719acc70",
   "metadata": {},
   "outputs": [
    {
     "name": "stdout",
     "output_type": "stream",
     "text": [
      "solomonansah@gmail.com\n"
     ]
    }
   ],
   "source": [
    "emp1=Employee(\"solomon\",\"ansah\",5000)\n",
    "print(emp1.email)  "
   ]
  },
  {
   "cell_type": "code",
   "execution_count": 17,
   "id": "715845cb",
   "metadata": {},
   "outputs": [
    {
     "data": {
      "text/plain": [
       "5000"
      ]
     },
     "execution_count": 17,
     "metadata": {},
     "output_type": "execute_result"
    }
   ],
   "source": [
    "emp1.pay"
   ]
  },
  {
   "cell_type": "code",
   "execution_count": 21,
   "id": "2bf606f0",
   "metadata": {},
   "outputs": [],
   "source": [
    "class Details:\n",
    "    def __init__(self,weather,deposit,balance):\n",
    "        self.weather=weather\n",
    "        self.deposit=deposit\n",
    "        self.balance=balance\n",
    "#         self.date=now()\n",
    "        "
   ]
  },
  {
   "cell_type": "code",
   "execution_count": 22,
   "id": "63211b0f",
   "metadata": {},
   "outputs": [
    {
     "name": "stdout",
     "output_type": "stream",
     "text": [
      "6000\n"
     ]
    }
   ],
   "source": [
    "# Instantiate an object out of the Class\n",
    "det1=Details(\"cold\",5000,6000)\n",
    "print(det1.balance)"
   ]
  },
  {
   "cell_type": "code",
   "execution_count": 28,
   "id": "14c2cb4a",
   "metadata": {},
   "outputs": [
    {
     "name": "stdout",
     "output_type": "stream",
     "text": [
      "solomon ansah\n"
     ]
    }
   ],
   "source": [
    "print(emp1.first +\" \" + emp1.last) # This is good but could be written as a function within the Class. "
   ]
  },
  {
   "cell_type": "markdown",
   "id": "c82dd1a8",
   "metadata": {},
   "source": [
    "# Adding Methods ( Functions attached to a Class are Methods)"
   ]
  },
  {
   "cell_type": "code",
   "execution_count": 29,
   "id": "76501bbd",
   "metadata": {},
   "outputs": [],
   "source": [
    "class Employee:\n",
    "    def __init__(self, first,last,pay):\n",
    "        self.first=first\n",
    "        self.last=last\n",
    "        self.pay=pay\n",
    "        self.email=first+last+\"@gmail.com\"\n",
    "        \n",
    "    def fullname(self):\n",
    "        return \"{} {}\".format(self.first, self.last)\n",
    "        "
   ]
  },
  {
   "cell_type": "code",
   "execution_count": 30,
   "id": "6ad48c52",
   "metadata": {},
   "outputs": [],
   "source": [
    "emp2=Employee(\"solomon\",\"ansah\",6000)"
   ]
  },
  {
   "cell_type": "code",
   "execution_count": 32,
   "id": "1bac3c23",
   "metadata": {},
   "outputs": [
    {
     "name": "stdout",
     "output_type": "stream",
     "text": [
      "solomon ansah\n"
     ]
    }
   ],
   "source": [
    "print(emp2.fullname())"
   ]
  },
  {
   "cell_type": "code",
   "execution_count": null,
   "id": "ee1e2a55",
   "metadata": {},
   "outputs": [],
   "source": []
  }
 ],
 "metadata": {
  "kernelspec": {
   "display_name": "Python 3",
   "language": "python",
   "name": "python3"
  },
  "language_info": {
   "codemirror_mode": {
    "name": "ipython",
    "version": 3
   },
   "file_extension": ".py",
   "mimetype": "text/x-python",
   "name": "python",
   "nbconvert_exporter": "python",
   "pygments_lexer": "ipython3",
   "version": "3.8.5"
  }
 },
 "nbformat": 4,
 "nbformat_minor": 5
}
