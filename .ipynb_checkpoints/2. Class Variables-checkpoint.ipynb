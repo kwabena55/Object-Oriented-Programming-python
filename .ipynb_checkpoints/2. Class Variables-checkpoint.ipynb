{
 "cells": [
  {
   "cell_type": "code",
   "execution_count": 28,
   "id": "f5603010",
   "metadata": {},
   "outputs": [],
   "source": [
    "class Employee:\n",
    "    def __init__(self, first,last,pay):\n",
    "        self.first=first\n",
    "        self.last=last\n",
    "        self.pay=pay\n",
    "        self.email=first+last+\"@gmail.com\"\n",
    "        \n",
    "    def fullname(self):\n",
    "        return \"{} {}\".format(self.first, self.last)\n",
    "    \n",
    "    \n",
    "    def pay_raise(self):\n",
    "        return int(self.pay * 1.04)  # this is hardcoded, thats why we need a class variable\n",
    "        "
   ]
  },
  {
   "cell_type": "code",
   "execution_count": 29,
   "id": "c8bb134c",
   "metadata": {},
   "outputs": [],
   "source": [
    "emp1=Employee(\"ansah\",\"solomon\",2000)"
   ]
  },
  {
   "cell_type": "code",
   "execution_count": 30,
   "id": "db6693fe",
   "metadata": {},
   "outputs": [
    {
     "name": "stdout",
     "output_type": "stream",
     "text": [
      "2000\n"
     ]
    }
   ],
   "source": [
    "print(emp1.pay)"
   ]
  },
  {
   "cell_type": "code",
   "execution_count": 31,
   "id": "8ca1ca92",
   "metadata": {},
   "outputs": [
    {
     "name": "stdout",
     "output_type": "stream",
     "text": [
      "ansah solomon\n"
     ]
    }
   ],
   "source": [
    "print(emp1.fullname())"
   ]
  },
  {
   "cell_type": "code",
   "execution_count": 32,
   "id": "ce0632d2",
   "metadata": {},
   "outputs": [
    {
     "name": "stdout",
     "output_type": "stream",
     "text": [
      "2080\n"
     ]
    }
   ],
   "source": [
    "print(emp1.pay_raise())"
   ]
  },
  {
   "cell_type": "code",
   "execution_count": 37,
   "id": "fa772982",
   "metadata": {},
   "outputs": [],
   "source": [
    "class Employee:\n",
    "    raisepercent=1.04\n",
    "    def __init__(self, first,last,pay):\n",
    "        self.first=first\n",
    "        self.last=last\n",
    "        self.pay=pay\n",
    "        self.email=first+last+\"@gmail.com\"\n",
    "        \n",
    "    def fullname(self):\n",
    "        return \"{} {}\".format(self.first, self.last)\n",
    "    \n",
    "    \n",
    "    def pay_raisee(self):\n",
    "        return int(self.pay * self.raisepercent)  # this is hardcoded, thats why we need a class variable\n",
    "        "
   ]
  },
  {
   "cell_type": "code",
   "execution_count": 38,
   "id": "12265062",
   "metadata": {},
   "outputs": [
    {
     "name": "stdout",
     "output_type": "stream",
     "text": [
      "2080\n"
     ]
    }
   ],
   "source": [
    "emp1=Employee(\"ansah\",\"solomon\",2000)\n",
    "print(emp1.pay_raisee())"
   ]
  },
  {
   "cell_type": "code",
   "execution_count": 39,
   "id": "a4153890",
   "metadata": {},
   "outputs": [
    {
     "data": {
      "text/plain": [
       "1.04"
      ]
     },
     "execution_count": 39,
     "metadata": {},
     "output_type": "execute_result"
    }
   ],
   "source": [
    "emp1.raisepercent"
   ]
  },
  {
   "cell_type": "code",
   "execution_count": 41,
   "id": "1f657579",
   "metadata": {},
   "outputs": [
    {
     "data": {
      "text/plain": [
       "'solomon'"
      ]
     },
     "execution_count": 41,
     "metadata": {},
     "output_type": "execute_result"
    }
   ],
   "source": [
    "emp1.last"
   ]
  },
  {
   "cell_type": "markdown",
   "id": "3caba10e",
   "metadata": {},
   "source": [
    "## Reassignemnt of Var\n",
    "* Use self for varying variable assignemnt"
   ]
  },
  {
   "cell_type": "code",
   "execution_count": 43,
   "id": "582213ff",
   "metadata": {},
   "outputs": [],
   "source": [
    "\n",
    "emp1.raisepercent=1.05"
   ]
  },
  {
   "cell_type": "code",
   "execution_count": 44,
   "id": "d4148461",
   "metadata": {},
   "outputs": [
    {
     "name": "stdout",
     "output_type": "stream",
     "text": [
      "{'first': 'ansah', 'last': 'solomon', 'pay': 2000, 'email': 'ansahsolomon@gmail.com', 'raisepercent': 1.05}\n"
     ]
    }
   ],
   "source": [
    "print(emp1.__dict__)"
   ]
  },
  {
   "cell_type": "code",
   "execution_count": 45,
   "id": "54896e7c",
   "metadata": {},
   "outputs": [],
   "source": [
    "emp2=Employee(\"ansah\",\"solomon\",3000)"
   ]
  },
  {
   "cell_type": "code",
   "execution_count": 46,
   "id": "736f0f6e",
   "metadata": {},
   "outputs": [
    {
     "name": "stdout",
     "output_type": "stream",
     "text": [
      "{'first': 'ansah', 'last': 'solomon', 'pay': 3000, 'email': 'ansahsolomon@gmail.com'}\n"
     ]
    }
   ],
   "source": [
    "print(emp2.__dict__)"
   ]
  },
  {
   "cell_type": "code",
   "execution_count": 47,
   "id": "0a9e7845",
   "metadata": {},
   "outputs": [
    {
     "data": {
      "text/plain": [
       "1.04"
      ]
     },
     "execution_count": 47,
     "metadata": {},
     "output_type": "execute_result"
    }
   ],
   "source": [
    "emp2.raisepercent  # So you see emp2 has 1.o4 and emp1 class has 1.05"
   ]
  },
  {
   "cell_type": "code",
   "execution_count": 48,
   "id": "7cd7190d",
   "metadata": {},
   "outputs": [],
   "source": [
    "emp2.raisepercent=1.06"
   ]
  },
  {
   "cell_type": "code",
   "execution_count": 49,
   "id": "c499321f",
   "metadata": {},
   "outputs": [
    {
     "data": {
      "text/plain": [
       "{'first': 'ansah',\n",
       " 'last': 'solomon',\n",
       " 'pay': 3000,\n",
       " 'email': 'ansahsolomon@gmail.com',\n",
       " 'raisepercent': 1.06}"
      ]
     },
     "execution_count": 49,
     "metadata": {},
     "output_type": "execute_result"
    }
   ],
   "source": [
    "emp2.__dict__"
   ]
  },
  {
   "cell_type": "markdown",
   "id": "49d1d8a3",
   "metadata": {},
   "source": [
    "# To keep Variables Fixed Across Instances\n",
    "* Use Classname"
   ]
  },
  {
   "cell_type": "code",
   "execution_count": 57,
   "id": "8327e67d",
   "metadata": {},
   "outputs": [],
   "source": [
    "class Employee:\n",
    "    raisepercent=1.04\n",
    "    def __init__(self, first,last,pay):\n",
    "        self.first=first\n",
    "        self.last=last\n",
    "        self.pay=pay\n",
    "        self.email=first+last+\"@gmail.com\"\n",
    "        \n",
    "    def fullname(self):\n",
    "        return \"{} {}\".format(self.first, self.last)\n",
    "    \n",
    "    \n",
    "    def pay_raisee(self):\n",
    "        return int(self.pay * Employee.raisepercent)  # Use classname to keep variable fixed always\n",
    "        "
   ]
  },
  {
   "cell_type": "code",
   "execution_count": 58,
   "id": "dbd88a72",
   "metadata": {},
   "outputs": [
    {
     "data": {
      "text/plain": [
       "3180"
      ]
     },
     "execution_count": 58,
     "metadata": {},
     "output_type": "execute_result"
    }
   ],
   "source": [
    "emp2.pay_raisee()"
   ]
  },
  {
   "cell_type": "code",
   "execution_count": 59,
   "id": "bc834f92",
   "metadata": {},
   "outputs": [
    {
     "data": {
      "text/plain": [
       "2100"
      ]
     },
     "execution_count": 59,
     "metadata": {},
     "output_type": "execute_result"
    }
   ],
   "source": [
    "emp1.pay_raisee()  "
   ]
  },
  {
   "cell_type": "code",
   "execution_count": 72,
   "id": "d697f308",
   "metadata": {},
   "outputs": [],
   "source": [
    "class Employee:\n",
    "    raisepercent=1.04\n",
    "    num_employees=0\n",
    "    def __init__(self, first,last,pay):\n",
    "        self.first=first\n",
    "        self.last=last\n",
    "        self.pay=pay\n",
    "        self.email=first+last+\"@gmail.com\"\n",
    "        Employee.num_employees+=1\n",
    "        \n",
    "    def fullname(self):\n",
    "        return \"{} {}\".format(self.first, self.last)\n",
    "    \n",
    "    \n",
    "    def pay_raisee(self):\n",
    "        return int(self.pay * Employee.raisepercent)"
   ]
  },
  {
   "cell_type": "code",
   "execution_count": 78,
   "id": "58e366f0",
   "metadata": {},
   "outputs": [
    {
     "name": "stdout",
     "output_type": "stream",
     "text": [
      "3\n"
     ]
    }
   ],
   "source": [
    "emp2=Employee(\"ansah\",\"solomon\",3000)\n",
    "print(Employee.num_employees)"
   ]
  },
  {
   "cell_type": "code",
   "execution_count": 77,
   "id": "a9d34b45",
   "metadata": {},
   "outputs": [
    {
     "name": "stdout",
     "output_type": "stream",
     "text": [
      "2\n"
     ]
    }
   ],
   "source": [
    "print(Employee.num_employees)"
   ]
  },
  {
   "cell_type": "code",
   "execution_count": null,
   "id": "01c94b5f",
   "metadata": {},
   "outputs": [],
   "source": []
  }
 ],
 "metadata": {
  "kernelspec": {
   "display_name": "Python 3",
   "language": "python",
   "name": "python3"
  },
  "language_info": {
   "codemirror_mode": {
    "name": "ipython",
    "version": 3
   },
   "file_extension": ".py",
   "mimetype": "text/x-python",
   "name": "python",
   "nbconvert_exporter": "python",
   "pygments_lexer": "ipython3",
   "version": "3.8.5"
  }
 },
 "nbformat": 4,
 "nbformat_minor": 5
}
