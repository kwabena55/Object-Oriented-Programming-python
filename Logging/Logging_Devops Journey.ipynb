{
 "cells": [
  {
   "cell_type": "markdown",
   "id": "f1e9e09a",
   "metadata": {},
   "source": [
    "# Python Logging Made Easy ( Devops Journey)"
   ]
  },
  {
   "cell_type": "code",
   "execution_count": 2,
   "id": "4226643f",
   "metadata": {},
   "outputs": [
    {
     "name": "stderr",
     "output_type": "stream",
     "text": [
      "WARNING:root:This is a warning\n"
     ]
    }
   ],
   "source": [
    "import logging\n",
    "logging.warning(\"This is a warning\")"
   ]
  },
  {
   "cell_type": "markdown",
   "id": "16f78823",
   "metadata": {},
   "source": [
    "# All Logging Levels"
   ]
  },
  {
   "cell_type": "code",
   "execution_count": 3,
   "id": "b76d1cc4",
   "metadata": {},
   "outputs": [
    {
     "name": "stderr",
     "output_type": "stream",
     "text": [
      "WARNING:root:this is a warning\n",
      "ERROR:root:this is an error message\n",
      "CRITICAL:root:this is critical msg\n"
     ]
    }
   ],
   "source": [
    "logging.debug(\"this is a debug\")\n",
    "logging.info(\"this is an info\")\n",
    "logging.warning(\"this is a warning\")\n",
    "logging.error(\"this is an error message\")\n",
    "logging.critical(\"this is critical msg\")"
   ]
  },
  {
   "cell_type": "markdown",
   "id": "7d4d55af",
   "metadata": {},
   "source": [
    "# Configure Logging levels to show all when you run"
   ]
  },
  {
   "cell_type": "code",
   "execution_count": 8,
   "id": "757eda42",
   "metadata": {},
   "outputs": [],
   "source": [
    "logging.basicConfig(level=logging.CRITICAL)"
   ]
  },
  {
   "cell_type": "code",
   "execution_count": 31,
   "id": "4b8f46f4",
   "metadata": {},
   "outputs": [
    {
     "name": "stderr",
     "output_type": "stream",
     "text": [
      "WARNING:root:this is a warning\n",
      "ERROR:root:this is an error message\n",
      "CRITICAL:root:this is critical msg\n"
     ]
    }
   ],
   "source": [
    "logging.debug(\"this is a debug\")\n",
    "logging.info(\"this is an info\")\n",
    "logging.warning(\"this is a warning\")\n",
    "logging.error(\"this is an error message\")\n",
    "logging.critical(\"this is critical msg\")"
   ]
  },
  {
   "cell_type": "code",
   "execution_count": 32,
   "id": "6b40345e",
   "metadata": {},
   "outputs": [],
   "source": [
    "# import logging library\n",
    "# levelname-- error name\n",
    "#message ois the accompanied message\n",
    "import logging\n",
    "logging.basicConfig(filename=\"log.txt\",filemode=\"a\",\n",
    "                    format=\"%(asctime)s %(levelname)s-%(message)s\",datefmt=\"%Y-%m-%d %HH:%M:%S\")"
   ]
  },
  {
   "cell_type": "code",
   "execution_count": 33,
   "id": "335bf67f",
   "metadata": {},
   "outputs": [
    {
     "name": "stderr",
     "output_type": "stream",
     "text": [
      "CRITICAL:root:Exception  Error\n",
      "Traceback (most recent call last):\n",
      "  File \"<ipython-input-33-9191e58ffcf7>\", line 4, in <module>\n",
      "    a/b\n",
      "ZeroDivisionError: division by zero\n"
     ]
    }
   ],
   "source": [
    "try:\n",
    "    a=2\n",
    "    b=0\n",
    "    a/b\n",
    "except Exception as e:\n",
    "    logging.critical(\"Exception  Error\",exc_info=True)"
   ]
  },
  {
   "cell_type": "code",
   "execution_count": null,
   "id": "afc41a07",
   "metadata": {},
   "outputs": [],
   "source": []
  }
 ],
 "metadata": {
  "kernelspec": {
   "display_name": "Python 3",
   "language": "python",
   "name": "python3"
  },
  "language_info": {
   "codemirror_mode": {
    "name": "ipython",
    "version": 3
   },
   "file_extension": ".py",
   "mimetype": "text/x-python",
   "name": "python",
   "nbconvert_exporter": "python",
   "pygments_lexer": "ipython3",
   "version": "3.8.5"
  }
 },
 "nbformat": 4,
 "nbformat_minor": 5
}
