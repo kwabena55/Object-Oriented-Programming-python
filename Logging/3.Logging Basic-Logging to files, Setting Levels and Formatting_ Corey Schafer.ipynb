{
 "cells": [
  {
   "cell_type": "markdown",
   "id": "09fa6b8c",
   "metadata": {},
   "source": [
    "# Logging Levels\n",
    "* DEBUG: Detailed information , typically of interest only when diagnosing problems\n",
    "* INFO: COnfirmation that things are working as expected\n",
    "* Warning: An indication that something unexpected happened, or indicative of some problem in the near\n",
    "    future( disk space low) but the software works as expected\n",
    "* ERROR: Due to a more serious problem, the software has not been able to perform the problem\n",
    "* CRITICAL: A serious error, indicating the program may not be able to continue\n"
   ]
  },
  {
   "cell_type": "code",
   "execution_count": 1,
   "id": "fe3ef67e",
   "metadata": {},
   "outputs": [],
   "source": [
    "import logging\n",
    "def add( x,y):\n",
    "    return x+y\n",
    "\n",
    "def subtract( x,y):\n",
    "    return x-y\n",
    "\n",
    "def divide( x,y):\n",
    "    return x/y"
   ]
  },
  {
   "cell_type": "code",
   "execution_count": 10,
   "id": "2732c430",
   "metadata": {},
   "outputs": [
    {
     "name": "stdout",
     "output_type": "stream",
     "text": [
      "add: 10 + 2 = 12\n",
      "subtract: 10 - 2 = 8\n",
      "divide: 10 / 2 = 5.0\n"
     ]
    }
   ],
   "source": [
    "num1=10\n",
    "num2=2\n",
    "add_result=add(num1,num2)\n",
    "print(f\"add: {num1} + {num2} = {add_result}\")\n",
    "\n",
    "subtract_result=subtract(num1,num2)\n",
    "print(f\"subtract: {num1} - {num2} = {subtract_result}\")\n",
    "\n",
    "\n",
    "divide_result=divide(num1,num2)\n",
    "print(f\"divide: {num1} / {num2} = {divide_result}\")"
   ]
  },
  {
   "cell_type": "markdown",
   "id": "2c9335a0",
   "metadata": {},
   "source": [
    "# We dont see anything because its loggging in Window"
   ]
  },
  {
   "cell_type": "code",
   "execution_count": 13,
   "id": "aa234923",
   "metadata": {},
   "outputs": [],
   "source": [
    "num1=10\n",
    "num2=2\n",
    "add_result=add(num1,num2)\n",
    "logging.debug(f\"add: {num1} + {num2} = {add_result}\")\n",
    "\n",
    "subtract_result=subtract(num1,num2)\n",
    "logging.debug(f\"subtract: {num1} - {num2} = {subtract_result}\")\n",
    "\n",
    "\n",
    "divide_result=divide(num1,num2)\n",
    "logging.debug(f\"divide: {num1} / {num2} = {divide_result}\")"
   ]
  },
  {
   "cell_type": "markdown",
   "id": "cb91bbe5",
   "metadata": {},
   "source": [
    "# Logging to a File"
   ]
  },
  {
   "cell_type": "code",
   "execution_count": 2,
   "id": "c318a8a7",
   "metadata": {},
   "outputs": [],
   "source": [
    "import logging\n",
    "logging.basicConfig(filename=\"loggggg.txt\",filemode=\"a\",\n",
    "                    format=\"%(asctime)s %(levelname)s-%(message)s\",datefmt=\"%Y-%m-%d %HH:%M:%S\")"
   ]
  },
  {
   "cell_type": "code",
   "execution_count": 3,
   "id": "7dd13f43",
   "metadata": {},
   "outputs": [],
   "source": [
    "num1=10\n",
    "num2=2\n",
    "add_result=add(num1,num2)\n",
    "logging.debug(f\"add: {num1} + {num2} = {add_result}\")\n",
    "\n",
    "subtract_result=subtract(num1,num2)\n",
    "logging.debug(f\"subtract: {num1} - {num2} = {subtract_result}\")\n",
    "\n",
    "\n",
    "divide_result=divide(num1,num2)\n",
    "logging.debug(f\"divide: {num1} / {num2} = {divide_result}\")"
   ]
  },
  {
   "cell_type": "code",
   "execution_count": null,
   "id": "0d34b906",
   "metadata": {},
   "outputs": [],
   "source": []
  }
 ],
 "metadata": {
  "kernelspec": {
   "display_name": "Python 3",
   "language": "python",
   "name": "python3"
  },
  "language_info": {
   "codemirror_mode": {
    "name": "ipython",
    "version": 3
   },
   "file_extension": ".py",
   "mimetype": "text/x-python",
   "name": "python",
   "nbconvert_exporter": "python",
   "pygments_lexer": "ipython3",
   "version": "3.8.5"
  }
 },
 "nbformat": 4,
 "nbformat_minor": 5
}
