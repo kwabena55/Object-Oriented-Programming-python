{
 "cells": [
  {
   "cell_type": "markdown",
   "id": "29f34e57",
   "metadata": {},
   "source": [
    "# Python Logging Made Easy ( Devops Journey)"
   ]
  },
  {
   "cell_type": "code",
   "execution_count": 2,
   "id": "84d2bc37",
   "metadata": {},
   "outputs": [
    {
     "name": "stderr",
     "output_type": "stream",
     "text": [
      "WARNING:root:This is a warning\n"
     ]
    }
   ],
   "source": [
    "import logging\n",
    "logging.warning(\"This is a warning\")"
   ]
  },
  {
   "cell_type": "markdown",
   "id": "c62d0d2e",
   "metadata": {},
   "source": [
    "# All Logging Levels"
   ]
  },
  {
   "cell_type": "code",
   "execution_count": 3,
   "id": "35c31033",
   "metadata": {},
   "outputs": [
    {
     "name": "stderr",
     "output_type": "stream",
     "text": [
      "WARNING:root:this is a warning\n",
      "ERROR:root:this is an error message\n",
      "CRITICAL:root:this is critical msg\n"
     ]
    }
   ],
   "source": [
    "logging.debug(\"this is a debug\")\n",
    "logging.info(\"this is an info\")\n",
    "logging.warning(\"this is a warning\")\n",
    "logging.error(\"this is an error message\")\n",
    "logging.critical(\"this is critical msg\")"
   ]
  },
  {
   "cell_type": "markdown",
   "id": "848cd991",
   "metadata": {},
   "source": [
    "# Configure Logging levels to show all when you run"
   ]
  },
  {
   "cell_type": "code",
   "execution_count": 8,
   "id": "76dc2524",
   "metadata": {},
   "outputs": [],
   "source": [
    "logging.basicConfig(level=logging.CRITICAL)"
   ]
  },
  {
   "cell_type": "code",
   "execution_count": 31,
   "id": "d2a72882",
   "metadata": {},
   "outputs": [
    {
     "name": "stderr",
     "output_type": "stream",
     "text": [
      "WARNING:root:this is a warning\n",
      "ERROR:root:this is an error message\n",
      "CRITICAL:root:this is critical msg\n"
     ]
    }
   ],
   "source": [
    "logging.debug(\"this is a debug\")\n",
    "logging.info(\"this is an info\")\n",
    "logging.warning(\"this is a warning\")\n",
    "logging.error(\"this is an error message\")\n",
    "logging.critical(\"this is critical msg\")"
   ]
  },
  {
   "cell_type": "code",
   "execution_count": 1,
   "id": "ceea1bf5",
   "metadata": {},
   "outputs": [],
   "source": [
    "import logging"
   ]
  },
  {
   "cell_type": "code",
   "execution_count": 2,
   "id": "afc321e5",
   "metadata": {},
   "outputs": [],
   "source": [
    "# import logging library\n",
    "# levelname-- error name\n",
    "#message ois the accompanied message\n",
    "import logging\n",
    "logging.basicConfig(filename=\"log.txt\",filemode=\"a\",\n",
    "                    format=\"%(asctime)s %(levelname)s-%(message)s\",datefmt=\"%Y-%m-%d %HH:%M:%S\")"
   ]
  },
  {
   "cell_type": "code",
   "execution_count": 3,
   "id": "2b2e6e0a",
   "metadata": {},
   "outputs": [],
   "source": [
    "try:\n",
    "    a=2\n",
    "    b=0\n",
    "    a/b\n",
    "except Exception as e:\n",
    "    logging.critical(\"Exception  Error\",exc_info=True)"
   ]
  },
  {
   "cell_type": "code",
   "execution_count": null,
   "id": "42bc1cb5",
   "metadata": {},
   "outputs": [],
   "source": []
  }
 ],
 "metadata": {
  "kernelspec": {
   "display_name": "Python 3",
   "language": "python",
   "name": "python3"
  },
  "language_info": {
   "codemirror_mode": {
    "name": "ipython",
    "version": 3
   },
   "file_extension": ".py",
   "mimetype": "text/x-python",
   "name": "python",
   "nbconvert_exporter": "python",
   "pygments_lexer": "ipython3",
   "version": "3.8.5"
  }
 },
 "nbformat": 4,
 "nbformat_minor": 5
}
