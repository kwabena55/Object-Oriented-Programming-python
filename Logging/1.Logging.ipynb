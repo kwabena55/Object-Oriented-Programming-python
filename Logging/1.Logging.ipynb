{
 "cells": [
  {
   "cell_type": "markdown",
   "id": "1fb9723f",
   "metadata": {},
   "source": [
    "# Logging implementation In Python ( KrishNaik -- Youtube)\n",
    " A good way to write code is to handle error but wont it be ideal if we are able to log events when running the code\n",
    " What about if we want to see all logs stored to a db\n",
    " Monitor entire logs"
   ]
  },
  {
   "cell_type": "code",
   "execution_count": 5,
   "id": "a0dafd48",
   "metadata": {},
   "outputs": [],
   "source": [
    "# import logging library\n",
    "# levelname-- error name\n",
    "#message ois the accompanied message\n",
    "import logging\n",
    "logging.basicConfig(filename=\"sol_log.txt\",filemode=\"a\",\n",
    "                    format=\"%(asctime)s %(levelname)s-%(message)s\",datefmt=\"%Y-%m-%d %H:%M:%S\")"
   ]
  },
  {
   "cell_type": "code",
   "execution_count": 14,
   "id": "414cf81b",
   "metadata": {},
   "outputs": [],
   "source": [
    "for i in range(0,15):\n",
    "    if(i%2==0):\n",
    "        logging.warning(\"Loggingwarning Message\")\n",
    "    elif i%3==0:\n",
    "        logging.critical(\"Logging Critical Message\")\n",
    "    else:\n",
    "        logging.error(\"Logging Error Message\")"
   ]
  },
  {
   "cell_type": "code",
   "execution_count": 12,
   "id": "cc721faf",
   "metadata": {},
   "outputs": [
    {
     "name": "stdout",
     "output_type": "stream",
     "text": [
      "0\n",
      "2\n",
      "4\n",
      "6\n",
      "8\n",
      "10\n",
      "12\n",
      "14\n"
     ]
    }
   ],
   "source": [
    "for i in range(0,15):\n",
    "    if(i%2==0):\n",
    "        print(i)\n",
    "        logging.warning(\"Loggingwarning Message\")\n",
    "    elif i%3==0:\n",
    "        logging.critical(\"Logging Critical Message\")\n",
    "    else:\n",
    "        logging.error(\"Logging Error Message\")"
   ]
  },
  {
   "cell_type": "code",
   "execution_count": 13,
   "id": "e809d525",
   "metadata": {},
   "outputs": [
    {
     "name": "stdout",
     "output_type": "stream",
     "text": [
      "0\n",
      "2\n",
      "4\n",
      "6\n",
      "8\n",
      "10\n",
      "12\n",
      "14\n"
     ]
    }
   ],
   "source": [
    "for i in range(0,15):\n",
    "    try:\n",
    "        if(i%2==0):\n",
    "            print(i)\n",
    "    except:\n",
    "        logging.warning( \"Logging Warning Message\")"
   ]
  },
  {
   "cell_type": "code",
   "execution_count": 15,
   "id": "6b46c7e6",
   "metadata": {},
   "outputs": [
    {
     "name": "stdout",
     "output_type": "stream",
     "text": [
      "division by zero\n"
     ]
    }
   ],
   "source": [
    "try:\n",
    "    a=2\n",
    "    b=0\n",
    "    a/b\n",
    "except Exception as e:\n",
    "    print(e)\n",
    "    logging.error(\"ZeroDivisionError\")\n",
    "    "
   ]
  },
  {
   "cell_type": "code",
   "execution_count": null,
   "id": "78994b79",
   "metadata": {},
   "outputs": [],
   "source": []
  }
 ],
 "metadata": {
  "kernelspec": {
   "display_name": "Python 3",
   "language": "python",
   "name": "python3"
  },
  "language_info": {
   "codemirror_mode": {
    "name": "ipython",
    "version": 3
   },
   "file_extension": ".py",
   "mimetype": "text/x-python",
   "name": "python",
   "nbconvert_exporter": "python",
   "pygments_lexer": "ipython3",
   "version": "3.8.5"
  }
 },
 "nbformat": 4,
 "nbformat_minor": 5
}
