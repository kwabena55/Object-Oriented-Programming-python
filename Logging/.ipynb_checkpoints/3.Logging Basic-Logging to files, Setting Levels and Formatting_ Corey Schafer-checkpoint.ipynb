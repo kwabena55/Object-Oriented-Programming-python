{
 "cells": [
  {
   "cell_type": "markdown",
   "id": "7e5e571c",
   "metadata": {},
   "source": [
    "# Logging Levels\n",
    "* DEBUG: Detailed information , typically of interest only when diagnosing problems\n",
    "* INFO: COnfirmation that things are working as expected\n",
    "* Warning: An indication that something unexpected happened, or indicative of some problem in the near\n",
    "    future( disk space low) but the software works as expected\n",
    "* ERROR: Due to a more serious problem, the software has not been able to perform the problem\n",
    "* CRITICAL: A serious error, indicating the program may not be able to continue\n"
   ]
  },
  {
   "cell_type": "code",
   "execution_count": 3,
   "id": "a8f5b19c",
   "metadata": {},
   "outputs": [],
   "source": [
    "import logging\n",
    "def add( x,y):\n",
    "    return x+y\n",
    "\n",
    "def subtract( x,y):\n",
    "    return x-y\n",
    "\n",
    "def divide( x,y):\n",
    "    return x/y"
   ]
  },
  {
   "cell_type": "code",
   "execution_count": 10,
   "id": "bfe2b075",
   "metadata": {},
   "outputs": [
    {
     "name": "stdout",
     "output_type": "stream",
     "text": [
      "add: 10 + 2 = 12\n",
      "subtract: 10 - 2 = 8\n",
      "divide: 10 / 2 = 5.0\n"
     ]
    }
   ],
   "source": [
    "num1=10\n",
    "num2=2\n",
    "add_result=add(num1,num2)\n",
    "print(f\"add: {num1} + {num2} = {add_result}\")\n",
    "\n",
    "subtract_result=subtract(num1,num2)\n",
    "print(f\"subtract: {num1} - {num2} = {subtract_result}\")\n",
    "\n",
    "\n",
    "divide_result=divide(num1,num2)\n",
    "print(f\"divide: {num1} / {num2} = {divide_result}\")"
   ]
  },
  {
   "cell_type": "markdown",
   "id": "c93104bd",
   "metadata": {},
   "source": [
    "# We dont see anything because its loggging in Window"
   ]
  },
  {
   "cell_type": "code",
   "execution_count": 13,
   "id": "9c369322",
   "metadata": {},
   "outputs": [],
   "source": [
    "num1=10\n",
    "num2=2\n",
    "add_result=add(num1,num2)\n",
    "logging.debug(f\"add: {num1} + {num2} = {add_result}\")\n",
    "\n",
    "subtract_result=subtract(num1,num2)\n",
    "logging.debug(f\"subtract: {num1} - {num2} = {subtract_result}\")\n",
    "\n",
    "\n",
    "divide_result=divide(num1,num2)\n",
    "logging.debug(f\"divide: {num1} / {num2} = {divide_result}\")"
   ]
  },
  {
   "cell_type": "markdown",
   "id": "ec90a630",
   "metadata": {},
   "source": [
    "# Logging to a File"
   ]
  },
  {
   "cell_type": "code",
   "execution_count": 1,
   "id": "fc9b1ddf",
   "metadata": {},
   "outputs": [],
   "source": [
    "import logging\n",
    "logging.basicConfig(filename=\"loggggg.txt\",filemode=\"a\",\n",
    "                    format=\"%(asctime)s %(levelname)s-%(message)s\",datefmt=\"%Y-%m-%d %HH:%M:%S\")"
   ]
  },
  {
   "cell_type": "code",
   "execution_count": 4,
   "id": "9cdb412d",
   "metadata": {},
   "outputs": [],
   "source": [
    "num1=10\n",
    "num2=2\n",
    "add_result=add(num1,num2)\n",
    "logging.debug(f\"add: {num1} + {num2} = {add_result}\")\n",
    "\n",
    "subtract_result=subtract(num1,num2)\n",
    "logging.debug(f\"subtract: {num1} - {num2} = {subtract_result}\")\n",
    "\n",
    "\n",
    "divide_result=divide(num1,num2)\n",
    "logging.debug(f\"divide: {num1} / {num2} = {divide_result}\")"
   ]
  },
  {
   "cell_type": "code",
   "execution_count": null,
   "id": "a7d660d0",
   "metadata": {},
   "outputs": [],
   "source": []
  }
 ],
 "metadata": {
  "kernelspec": {
   "display_name": "Python 3",
   "language": "python",
   "name": "python3"
  },
  "language_info": {
   "codemirror_mode": {
    "name": "ipython",
    "version": 3
   },
   "file_extension": ".py",
   "mimetype": "text/x-python",
   "name": "python",
   "nbconvert_exporter": "python",
   "pygments_lexer": "ipython3",
   "version": "3.8.5"
  }
 },
 "nbformat": 4,
 "nbformat_minor": 5
}
