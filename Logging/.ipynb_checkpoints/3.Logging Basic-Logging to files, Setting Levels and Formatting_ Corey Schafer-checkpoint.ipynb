{
 "cells": [
  {
   "cell_type": "markdown",
   "id": "1a06b34e",
   "metadata": {},
   "source": [
    "# Logging Levels\n",
    "* DEBUG: Detailed information , typically of interest only when diagnosing problems\n",
    "* INFO: COnfirmation that things are working as expected\n",
    "* Warning: An indication that something unexpected happened, or indicative of some problem in the near\n",
    "    future( disk space low) but the software works as expected\n",
    "* ERROR: Due to a more serious problem, the software has not been able to perform the problem\n",
    "* CRITICAL: A serious error, indicating the program may not be able to continue\n"
   ]
  },
  {
   "cell_type": "code",
   "execution_count": 1,
   "id": "a5cab1df",
   "metadata": {},
   "outputs": [],
   "source": [
    "import logging\n",
    "def add( x,y):\n",
    "    return x+y\n",
    "\n",
    "def subtract( x,y):\n",
    "    return x-y\n",
    "\n",
    "def divide( x,y):\n",
    "    return x/y"
   ]
  },
  {
   "cell_type": "code",
   "execution_count": 10,
   "id": "9c9ee6cc",
   "metadata": {},
   "outputs": [
    {
     "name": "stdout",
     "output_type": "stream",
     "text": [
      "add: 10 + 2 = 12\n",
      "subtract: 10 - 2 = 8\n",
      "divide: 10 / 2 = 5.0\n"
     ]
    }
   ],
   "source": [
    "num1=10\n",
    "num2=2\n",
    "add_result=add(num1,num2)\n",
    "print(f\"add: {num1} + {num2} = {add_result}\")\n",
    "\n",
    "subtract_result=subtract(num1,num2)\n",
    "print(f\"subtract: {num1} - {num2} = {subtract_result}\")\n",
    "\n",
    "\n",
    "divide_result=divide(num1,num2)\n",
    "print(f\"divide: {num1} / {num2} = {divide_result}\")"
   ]
  },
  {
   "cell_type": "code",
   "execution_count": null,
   "id": "fe106833",
   "metadata": {},
   "outputs": [],
   "source": []
  }
 ],
 "metadata": {
  "kernelspec": {
   "display_name": "Python 3",
   "language": "python",
   "name": "python3"
  },
  "language_info": {
   "codemirror_mode": {
    "name": "ipython",
    "version": 3
   },
   "file_extension": ".py",
   "mimetype": "text/x-python",
   "name": "python",
   "nbconvert_exporter": "python",
   "pygments_lexer": "ipython3",
   "version": "3.8.5"
  }
 },
 "nbformat": 4,
 "nbformat_minor": 5
}
